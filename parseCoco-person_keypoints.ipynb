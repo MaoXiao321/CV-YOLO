{
 "cells": [
  {
   "attachments": {},
   "cell_type": "markdown",
   "metadata": {},
   "source": [
    "准备数据集：<br>\n",
    "annotations/person_keypoints_val2017.json是5000张图片的标注信息<br>\n",
    "images下是5000张图片<br>"
   ]
  },
  {
   "cell_type": "code",
   "execution_count": 2,
   "metadata": {},
   "outputs": [],
   "source": [
    "\"\"\"解析coco数据集的标注信息\n",
    "\"\"\"\n",
    "import json\n",
    "import os\n",
    "json_path = \"annotations/person_keypoints_val2017.json\"\n",
    "json_labels = json.load(open(json_path, \"r\"))\n",
    "annotations = json_labels['annotations'] # list\n",
    "images = json_labels['images'] # list\n",
    "categories = json_labels['categories'] # list"
   ]
  },
  {
   "cell_type": "code",
   "execution_count": 2,
   "metadata": {},
   "outputs": [],
   "source": [
    "# 存储图片名和图片id之间的映射关系\n",
    "idtoimage = {}\n",
    "for image in images:\n",
    "    file_name = image['file_name']\n",
    "    image_id = image['id'] \n",
    "    height = image['height'] \n",
    "    width = image['width'] \n",
    "    idtoimage[image_id] = [file_name,height,width]"
   ]
  },
  {
   "cell_type": "code",
   "execution_count": null,
   "metadata": {},
   "outputs": [],
   "source": [
    "# 存储类别名和类别id之间的映射关系。person此处对应1，需要用CLASSES转换一下\n",
    "idtoclss = {}\n",
    "for category in categories:\n",
    "    id = category['id']\n",
    "    name = category['name'] # 类别名\n",
    "    idtoclss[id] = name\n",
    "CLASSES = ['person']"
   ]
  },
  {
   "cell_type": "code",
   "execution_count": 7,
   "metadata": {},
   "outputs": [],
   "source": [
    "# 解析人体关键点：<class-index> <x> <y> <width> <height> <px1> <py1> <px2> <py2> ... <pxn> <pyn>,归一化\n",
    "Dim = 3\n",
    "for annotation in annotations:\n",
    "    try:\n",
    "        count = annotation['num_keypoints'] # 关键点标注数量\n",
    "        if count > 0:\n",
    "            image_id = annotation['image_id']  \n",
    "            category_id = annotation['category_id']  # 类别编号\n",
    "            bbox = annotation['bbox'] # 左上角x,y,w,h\n",
    "            # segmentation = annotation['segmentation'][0]  # 分割点\n",
    "            keypoints = annotation['keypoints']  # 人体关键点\n",
    "                    \n",
    "            classname = idtoclss[category_id] # 类别名\n",
    "            category_id = CLASSES.index(classname) # 转下编号\n",
    "            \n",
    "            file = idtoimage[image_id]\n",
    "            filename,h,w = file[0],file[1],file[2]\n",
    "            \n",
    "            # bbox归一化\n",
    "            cx = (bbox[0] + bbox[2]/2) / w\n",
    "            cy = (bbox[1] + bbox[3]/2) / h\n",
    "            box_w, box_h = bbox[2]/w, bbox[3]/h\n",
    "            line = [str(i) for i in [category_id, cx, cy, box_w, box_h]]\n",
    "            line = ' '.join(line)\n",
    "        \n",
    "            # keypoints归一化\n",
    "            x = [i/w for i in keypoints[0::3]] # x坐标归一化\n",
    "            y = [i/h for i in keypoints[1::3]] # y坐标归一化\n",
    "            v = [i for i in keypoints[2::3]] # v=0没标注，v=1被遮挡,v=2可见\n",
    "            xy = ''\n",
    "            if Dim == 2:\n",
    "                for i in range(len(x)):\n",
    "                    xy += str(x[i]) + ' ' + str(y[i]) + ' '\n",
    "            if Dim == 3:\n",
    "                for i in range(len(x)):\n",
    "                    xy += str(x[i]) + ' ' + str(y[i]) + ' ' + str(v[i]) + ' '\n",
    "            line = line + ' ' + xy + '\\n'\n",
    "            outfile = filename.split('.')[0]+'.txt'\n",
    "            outfile = os.path.join('labels_person_keypoints',outfile)\n",
    "            with open(outfile,'a') as f:\n",
    "                f.write(line)\n",
    "    except:\n",
    "        continue"
   ]
  },
  {
   "attachments": {},
   "cell_type": "markdown",
   "metadata": {},
   "source": [
    "制作一个500张图片的小样本集"
   ]
  },
  {
   "cell_type": "code",
   "execution_count": 10,
   "metadata": {},
   "outputs": [],
   "source": [
    "os.mkdir('labels_2d_500')\n",
    "os.mkdir('labels_3d_500')\n",
    "os.mkdir('images500')"
   ]
  },
  {
   "cell_type": "code",
   "execution_count": 11,
   "metadata": {},
   "outputs": [],
   "source": [
    "import shutil\n",
    "names = os.listdir('labels_person_keypoints_2d')[:500]\n",
    "for name in names:\n",
    "    cur_path = os.path.join('labels_person_keypoints_2d', name)\n",
    "    to_path = os.path.join('labels_2d_500', name)\n",
    "    shutil.copy(cur_path, to_path)  \n",
    "    \n",
    "    cur_path = os.path.join('labels_person_keypoints_3d', name)\n",
    "    to_path = os.path.join('labels_3d_500', name)\n",
    "    shutil.copy(cur_path, to_path)  \n",
    "    \n",
    "    image = name.split('.')[0]+'.jpg'\n",
    "    cur_path = os.path.join('images', image)\n",
    "    to_path = os.path.join('images500', image)\n",
    "    shutil.copy(cur_path, to_path)"
   ]
  },
  {
   "cell_type": "code",
   "execution_count": 3,
   "metadata": {},
   "outputs": [],
   "source": [
    "# 划分训练集和测试集\n",
    "ftrain = open('train.txt', 'w')\n",
    "fval = open('val.txt', 'w')\n",
    "imgaes = os.listdir('images')\n",
    "for i,image in enumerate(imgaes):\n",
    "    name = f'/home/data/images/{image}\\n'\n",
    "    if i % 10 == 2:\n",
    "        fval.write(name)\n",
    "    else:\n",
    "        ftrain.write(name)\n",
    "ftrain.close()\n",
    "fval.close()"
   ]
  },
  {
   "cell_type": "code",
   "execution_count": null,
   "metadata": {},
   "outputs": [],
   "source": []
  }
 ],
 "metadata": {
  "kernelspec": {
   "display_name": "transformer",
   "language": "python",
   "name": "python3"
  },
  "language_info": {
   "codemirror_mode": {
    "name": "ipython",
    "version": 3
   },
   "file_extension": ".py",
   "mimetype": "text/x-python",
   "name": "python",
   "nbconvert_exporter": "python",
   "pygments_lexer": "ipython3",
   "version": "3.10.11"
  },
  "orig_nbformat": 4
 },
 "nbformat": 4,
 "nbformat_minor": 2
}

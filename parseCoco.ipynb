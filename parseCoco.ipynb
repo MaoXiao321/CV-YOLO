{
 "cells": [
  {
   "cell_type": "code",
   "execution_count": 1,
   "metadata": {},
   "outputs": [],
   "source": [
    "\"\"\"解析coco数据集的标注信息\n",
    "\"\"\"\n",
    "import json\n",
    "import os"
   ]
  },
  {
   "cell_type": "code",
   "execution_count": 121,
   "metadata": {},
   "outputs": [],
   "source": [
    "CLASSES = [\n",
    "    'person', 'bicycle', 'car', 'motorcycle', 'airplane', 'bus', 'train', 'truck', 'boat', 'traffic light',\n",
    "    'fire hydrant',\n",
    "    'stop sign', 'parking meter', 'bench', 'bird', 'cat', 'dog', 'horse', 'sheep', 'cow', 'elephant', 'bear', 'zebra',\n",
    "    'giraffe', 'backpack', 'umbrella', 'handbag', 'tie', 'suitcase', 'frisbee', 'skis', 'snowboard', 'sports ball',\n",
    "    'kite',\n",
    "    'baseball bat', 'baseball glove', 'skateboard', 'surfboard', 'tennis racket', 'bottle', 'wine glass', 'cup', 'fork',\n",
    "    'knife', 'spoon', 'bowl', 'banana', 'apple', 'sandwich', 'orange', 'broccoli', 'carrot', 'hot dog', 'pizza',\n",
    "    'donut',\n",
    "    'cake', 'chair', 'couch', 'potted plant', 'bed', 'dining table', 'toilet', 'tv', 'laptop', 'mouse', 'remote',\n",
    "    'keyboard', 'cell phone', 'microwave', 'oven', 'toaster', 'sink', 'refrigerator', 'book', 'clock', 'vase',\n",
    "    'scissors',\n",
    "    'teddy bear', 'hair drier', 'toothbrush']"
   ]
  },
  {
   "cell_type": "code",
   "execution_count": 122,
   "metadata": {},
   "outputs": [],
   "source": [
    "json_path = \"annotations/instances_val2017.json\"\n",
    "json_labels = json.load(open(json_path, \"r\"))\n",
    "annotations = json_labels['annotations'] # list\n",
    "images = json_labels['images'] # list\n",
    "categories = json_labels['categories'] # list"
   ]
  },
  {
   "cell_type": "code",
   "execution_count": 123,
   "metadata": {},
   "outputs": [],
   "source": [
    "idtoimage = {}\n",
    "for image in images:\n",
    "    file_name = image['file_name']\n",
    "    image_id = image['id'] \n",
    "    height = image['height'] \n",
    "    width = image['width'] \n",
    "    idtoimage[image_id] = [file_name,height,width]"
   ]
  },
  {
   "cell_type": "code",
   "execution_count": 124,
   "metadata": {},
   "outputs": [],
   "source": [
    "idtoclss = {}\n",
    "for category in categories:\n",
    "    id = category['id']\n",
    "    name = category['name'] # 类别名\n",
    "    idtoclss[id] = name"
   ]
  },
  {
   "cell_type": "code",
   "execution_count": 106,
   "metadata": {},
   "outputs": [],
   "source": [
    "# 解析分割：<class-index> <x1> <y1> <x2> <y2> ... <xn> <yn>,归一化\n",
    "for annotation in annotations:\n",
    "    try:\n",
    "        segmentation = annotation['segmentation'][0]  # 分割点坐标\n",
    "        image_id = annotation['image_id']  \n",
    "        category_id = annotation['category_id']  # 类别编号\n",
    "                \n",
    "        classname = idtoclss[category_id] # 类别名\n",
    "        category_id = CLASSES.index(classname) # 转下编号\n",
    "        \n",
    "        file = idtoimage[image_id]\n",
    "        filename,h,w = file[0],file[1],file[2]\n",
    "        x = [i/w for i in segmentation[0::2]] # x坐标归一化\n",
    "        y = [i/h for i in segmentation[1::2]] # y坐标归一化\n",
    "        xy = ''\n",
    "        for i in range(len(x)):\n",
    "            xy += str(x[i]) + ' ' + str(y[i])\n",
    "        line = str(category_id)+ ' ' + xy + '\\n'\n",
    "        outfile = filename.split('.')[0]+'.txt'\n",
    "        outfile = os.path.join('instances',outfile)\n",
    "        with open(outfile,'a') as f:\n",
    "            f.write(line)\n",
    "    except:\n",
    "        continue"
   ]
  },
  {
   "cell_type": "code",
   "execution_count": 125,
   "metadata": {},
   "outputs": [],
   "source": [
    "# 解析目标检测：<object-class> <cx> <cy> <width> <height>,归一化\n",
    "for annotation in annotations:\n",
    "    try:\n",
    "        bbox = annotation['bbox']  # 左上角x,y,w,h\n",
    "        image_id = annotation['image_id']  \n",
    "        category_id = annotation['category_id']  # 类别编号\n",
    "                \n",
    "        classname = idtoclss[category_id] # 类别名\n",
    "        category_id = CLASSES.index(classname) # 转下编号\n",
    "\n",
    "        file = idtoimage[image_id]\n",
    "        filename,h,w = file[0],file[1],file[2]\n",
    "\n",
    "        box_w, box_h = bbox[2]/w, bbox[3]/h\n",
    "        cx = (bbox[0] + bbox[2]/2) / w\n",
    "        cy = (bbox[1] + bbox[3]/2) / h\n",
    "        line = [str(i) for i in [category_id, cx, cy, box_w, box_h]]\n",
    "        line = ' '.join(line) + '\\n'\n",
    "        outfile = filename.split('.')[0]+'.txt'\n",
    "        outfile = os.path.join('bbox',outfile)\n",
    "        with open(outfile,'a') as f:\n",
    "            f.write(line)\n",
    "    except:\n",
    "        continue"
   ]
  },
  {
   "cell_type": "code",
   "execution_count": 107,
   "metadata": {},
   "outputs": [],
   "source": [
    "# list(zip(x,y))[0]"
   ]
  },
  {
   "cell_type": "code",
   "execution_count": 16,
   "metadata": {},
   "outputs": [],
   "source": [
    "# 制作一个500张图片的小样本集\n",
    "import shutil\n",
    "names = os.listdir('labels_instances')[:500]\n",
    "for name in names:\n",
    "    cur_path = os.path.join('labels_instances', name)\n",
    "    to_path = os.path.join('labels_instances500', name)\n",
    "    shutil.copy(cur_path, to_path)  \n",
    "    \n",
    "    cur_path = os.path.join('labels_bbox', name)\n",
    "    to_path = os.path.join('labels_bbox500', name)\n",
    "    shutil.copy(cur_path, to_path) \n",
    "    \n",
    "    image = name.split('.')[0]+'.jpg'\n",
    "    cur_path = os.path.join('images', image)\n",
    "    to_path = os.path.join('images500', image)\n",
    "    shutil.copy(cur_path, to_path)"
   ]
  },
  {
   "cell_type": "code",
   "execution_count": 20,
   "metadata": {},
   "outputs": [],
   "source": [
    "# 划分训练集和测试集\n",
    "ftrain = open('train.txt', 'w')\n",
    "fval = open('val.txt', 'w')\n",
    "imgaes = os.listdir('images')\n",
    "for i,image in enumerate(imgaes):\n",
    "    name = f'/home/data/images/{image}\\n'\n",
    "    if i % 10 == 2:\n",
    "        fval.write(name)\n",
    "    else:\n",
    "        ftrain.write(name)\n",
    "ftrain.close()\n",
    "fval.close()"
   ]
  },
  {
   "cell_type": "code",
   "execution_count": null,
   "metadata": {},
   "outputs": [],
   "source": []
  }
 ],
 "metadata": {
  "kernelspec": {
   "display_name": "transformer",
   "language": "python",
   "name": "python3"
  },
  "language_info": {
   "codemirror_mode": {
    "name": "ipython",
    "version": 3
   },
   "file_extension": ".py",
   "mimetype": "text/x-python",
   "name": "python",
   "nbconvert_exporter": "python",
   "pygments_lexer": "ipython3",
   "version": "3.10.11"
  },
  "orig_nbformat": 4
 },
 "nbformat": 4,
 "nbformat_minor": 2
}
